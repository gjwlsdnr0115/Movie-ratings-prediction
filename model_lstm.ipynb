{
 "cells": [
  {
   "cell_type": "code",
   "execution_count": 6,
   "metadata": {
    "colab": {
     "base_uri": "https://localhost:8080/",
     "height": 71
    },
    "colab_type": "code",
    "executionInfo": {
     "elapsed": 1244,
     "status": "ok",
     "timestamp": 1599575406702,
     "user": {
      "displayName": "Jinwook Huh",
      "photoUrl": "",
      "userId": "13981448195995220893"
     },
     "user_tz": -540
    },
    "id": "ttzcuuBXKAaI",
    "outputId": "bd03ac80-dc64-4dd5-d5e6-b09b93fb4862"
   },
   "outputs": [],
   "source": [
    "import numpy as np\n",
    "import pandas as pd\n",
    "import seaborn as sns\n",
    "import matplotlib.pyplot as plt"
   ]
  },
  {
   "cell_type": "code",
   "execution_count": 2,
   "metadata": {
    "colab": {
     "base_uri": "https://localhost:8080/",
     "height": 34
    },
    "colab_type": "code",
    "executionInfo": {
     "elapsed": 1179,
     "status": "ok",
     "timestamp": 1599575433583,
     "user": {
      "displayName": "Jinwook Huh",
      "photoUrl": "",
      "userId": "13981448195995220893"
     },
     "user_tz": -540
    },
    "id": "v9XdENToKfa3",
    "outputId": "7c2b6b60-692f-4971-c2d9-d950d1f78eb0"
   },
   "outputs": [
    {
     "name": "stdout",
     "output_type": "stream",
     "text": [
      "Drive already mounted at /content/gdrive; to attempt to forcibly remount, call drive.mount(\"/content/gdrive\", force_remount=True).\n"
     ]
    }
   ],
   "source": [
    "from google.colab import drive\n",
    "drive.mount(\"/content/gdrive\")"
   ]
  },
  {
   "cell_type": "code",
   "execution_count": 7,
   "metadata": {
    "colab": {},
    "colab_type": "code",
    "executionInfo": {
     "elapsed": 1629,
     "status": "ok",
     "timestamp": 1599575439624,
     "user": {
      "displayName": "Jinwook Huh",
      "photoUrl": "",
      "userId": "13981448195995220893"
     },
     "user_tz": -540
    },
    "id": "TAqXKbU8KAaL"
   },
   "outputs": [],
   "source": [
    "t_data = pd.read_csv('final_train_data.csv', usecols=['tokens', 'label'], encoding='utf-8')\n",
    "v_data = pd.read_csv('final_valid_data.csv', usecols=['tokens', 'label'], encoding='utf-8')"
   ]
  },
  {
   "cell_type": "code",
   "execution_count": 8,
   "metadata": {
    "colab": {
     "base_uri": "https://localhost:8080/",
     "height": 204
    },
    "colab_type": "code",
    "executionInfo": {
     "elapsed": 1079,
     "status": "ok",
     "timestamp": 1599575450477,
     "user": {
      "displayName": "Jinwook Huh",
      "photoUrl": "",
      "userId": "13981448195995220893"
     },
     "user_tz": -540
    },
    "id": "mMgcSrlRK9cO",
    "outputId": "b8b06cff-5100-41b8-9957-bf8668b3ecb1"
   },
   "outputs": [
    {
     "data": {
      "text/html": [
       "<div>\n",
       "<style scoped>\n",
       "    .dataframe tbody tr th:only-of-type {\n",
       "        vertical-align: middle;\n",
       "    }\n",
       "\n",
       "    .dataframe tbody tr th {\n",
       "        vertical-align: top;\n",
       "    }\n",
       "\n",
       "    .dataframe thead th {\n",
       "        text-align: right;\n",
       "    }\n",
       "</style>\n",
       "<table border=\"1\" class=\"dataframe\">\n",
       "  <thead>\n",
       "    <tr style=\"text-align: right;\">\n",
       "      <th></th>\n",
       "      <th>label</th>\n",
       "      <th>tokens</th>\n",
       "    </tr>\n",
       "  </thead>\n",
       "  <tbody>\n",
       "    <tr>\n",
       "      <th>0</th>\n",
       "      <td>9</td>\n",
       "      <td>['아', '최고', 'ㅡ오프닝진짜진짜멋지고', '노래', '스카이폴', '저택',...</td>\n",
       "    </tr>\n",
       "    <tr>\n",
       "      <th>1</th>\n",
       "      <td>3</td>\n",
       "      <td>['중간', '에', '기분', '이', '너무', '불쾌', '하', '고', '...</td>\n",
       "    </tr>\n",
       "    <tr>\n",
       "      <th>2</th>\n",
       "      <td>2</td>\n",
       "      <td>['액션', '신', '이', '마치', '유치원', '생', '이', '칼싸움',...</td>\n",
       "    </tr>\n",
       "    <tr>\n",
       "      <th>3</th>\n",
       "      <td>4</td>\n",
       "      <td>['포스터', '보구', '완전', '낚', '인', '듯', '제목', '그대로'...</td>\n",
       "    </tr>\n",
       "    <tr>\n",
       "      <th>4</th>\n",
       "      <td>9</td>\n",
       "      <td>['시사회', '로', '보', '고', '왔', '는데요', '볼거리', '도',...</td>\n",
       "    </tr>\n",
       "  </tbody>\n",
       "</table>\n",
       "</div>"
      ],
      "text/plain": [
       "   label                                             tokens\n",
       "0      9  ['아', '최고', 'ㅡ오프닝진짜진짜멋지고', '노래', '스카이폴', '저택',...\n",
       "1      3  ['중간', '에', '기분', '이', '너무', '불쾌', '하', '고', '...\n",
       "2      2  ['액션', '신', '이', '마치', '유치원', '생', '이', '칼싸움',...\n",
       "3      4  ['포스터', '보구', '완전', '낚', '인', '듯', '제목', '그대로'...\n",
       "4      9  ['시사회', '로', '보', '고', '왔', '는데요', '볼거리', '도',..."
      ]
     },
     "execution_count": 8,
     "metadata": {},
     "output_type": "execute_result"
    }
   ],
   "source": [
    "t_data.head()  # train data"
   ]
  },
  {
   "cell_type": "code",
   "execution_count": 9,
   "metadata": {
    "colab": {
     "base_uri": "https://localhost:8080/",
     "height": 204
    },
    "colab_type": "code",
    "executionInfo": {
     "elapsed": 988,
     "status": "ok",
     "timestamp": 1599575452691,
     "user": {
      "displayName": "Jinwook Huh",
      "photoUrl": "",
      "userId": "13981448195995220893"
     },
     "user_tz": -540
    },
    "id": "sRXlgVJzn0vm",
    "outputId": "a5c8cc3c-8cd0-4055-8241-a9f9ffc8109f"
   },
   "outputs": [
    {
     "data": {
      "text/html": [
       "<div>\n",
       "<style scoped>\n",
       "    .dataframe tbody tr th:only-of-type {\n",
       "        vertical-align: middle;\n",
       "    }\n",
       "\n",
       "    .dataframe tbody tr th {\n",
       "        vertical-align: top;\n",
       "    }\n",
       "\n",
       "    .dataframe thead th {\n",
       "        text-align: right;\n",
       "    }\n",
       "</style>\n",
       "<table border=\"1\" class=\"dataframe\">\n",
       "  <thead>\n",
       "    <tr style=\"text-align: right;\">\n",
       "      <th></th>\n",
       "      <th>label</th>\n",
       "      <th>tokens</th>\n",
       "    </tr>\n",
       "  </thead>\n",
       "  <tbody>\n",
       "    <tr>\n",
       "      <th>0</th>\n",
       "      <td>9</td>\n",
       "      <td>['억지', '설정', '에', '눈물', '짜깁기', '한', '게', '아니',...</td>\n",
       "    </tr>\n",
       "    <tr>\n",
       "      <th>1</th>\n",
       "      <td>10</td>\n",
       "      <td>['보', '면서', '전혀', '억지', '라는', '생각', '이', '들', ...</td>\n",
       "    </tr>\n",
       "    <tr>\n",
       "      <th>2</th>\n",
       "      <td>10</td>\n",
       "      <td>['영화', '를', '보', '고', '평점', '등록', '하', '긴', '하...</td>\n",
       "    </tr>\n",
       "    <tr>\n",
       "      <th>3</th>\n",
       "      <td>10</td>\n",
       "      <td>['많', '은', '내용', '을', '담', '은', '영화', '배우', '들...</td>\n",
       "    </tr>\n",
       "    <tr>\n",
       "      <th>4</th>\n",
       "      <td>8</td>\n",
       "      <td>['경찰', '청장', '배역', '씹', '어', '먹', '을', '인간', '...</td>\n",
       "    </tr>\n",
       "  </tbody>\n",
       "</table>\n",
       "</div>"
      ],
      "text/plain": [
       "   label                                             tokens\n",
       "0      9  ['억지', '설정', '에', '눈물', '짜깁기', '한', '게', '아니',...\n",
       "1     10  ['보', '면서', '전혀', '억지', '라는', '생각', '이', '들', ...\n",
       "2     10  ['영화', '를', '보', '고', '평점', '등록', '하', '긴', '하...\n",
       "3     10  ['많', '은', '내용', '을', '담', '은', '영화', '배우', '들...\n",
       "4      8  ['경찰', '청장', '배역', '씹', '어', '먹', '을', '인간', '..."
      ]
     },
     "execution_count": 9,
     "metadata": {},
     "output_type": "execute_result"
    }
   ],
   "source": [
    "v_data.head()  # validation data"
   ]
  },
  {
   "cell_type": "code",
   "execution_count": 10,
   "metadata": {
    "colab": {},
    "colab_type": "code",
    "executionInfo": {
     "elapsed": 5127,
     "status": "ok",
     "timestamp": 1599575459892,
     "user": {
      "displayName": "Jinwook Huh",
      "photoUrl": "",
      "userId": "13981448195995220893"
     },
     "user_tz": -540
    },
    "id": "onxDIs_5vhJs"
   },
   "outputs": [],
   "source": [
    "# foramat data\n",
    "# make labels 0~9\n",
    "\n",
    "t_data['tokens'] = t_data['tokens'].apply(lambda x: eval(x))\n",
    "t_data['label_re'] = t_data['label'].apply(lambda x: x-1)\n",
    "\n",
    "v_data['tokens'] = v_data['tokens'].apply(lambda x: eval(x))\n",
    "v_data['label_re'] = v_data['label'].apply(lambda x: x-1)"
   ]
  },
  {
   "cell_type": "code",
   "execution_count": 11,
   "metadata": {
    "colab": {},
    "colab_type": "code",
    "executionInfo": {
     "elapsed": 2602,
     "status": "ok",
     "timestamp": 1599575459894,
     "user": {
      "displayName": "Jinwook Huh",
      "photoUrl": "",
      "userId": "13981448195995220893"
     },
     "user_tz": -540
    },
    "id": "IG9HwMnNKAal"
   },
   "outputs": [],
   "source": [
    "# make word vocabulary\n",
    "\n",
    "total_words = []\n",
    "for tokens in t_data['tokens']:\n",
    "    total_words += tokens\n",
    "    \n",
    "word_set = set(total_words)"
   ]
  },
  {
   "cell_type": "code",
   "execution_count": 12,
   "metadata": {
    "colab": {},
    "colab_type": "code",
    "executionInfo": {
     "elapsed": 1435,
     "status": "ok",
     "timestamp": 1599575462783,
     "user": {
      "displayName": "Jinwook Huh",
      "photoUrl": "",
      "userId": "13981448195995220893"
     },
     "user_tz": -540
    },
    "id": "QCXSHZq7KAaq"
   },
   "outputs": [],
   "source": [
    "vocab = {word: i+2 for i, word in enumerate(word_set)}  # assign each word with a number\n",
    "vocab['<unk>'] = 1\n",
    "vocab['<pad>'] = 0"
   ]
  },
  {
   "cell_type": "code",
   "execution_count": 13,
   "metadata": {
    "colab": {
     "base_uri": "https://localhost:8080/",
     "height": 34
    },
    "colab_type": "code",
    "executionInfo": {
     "elapsed": 1041,
     "status": "ok",
     "timestamp": 1599575466890,
     "user": {
      "displayName": "Jinwook Huh",
      "photoUrl": "",
      "userId": "13981448195995220893"
     },
     "user_tz": -540
    },
    "id": "w1fakAQ8KAas",
    "outputId": "5e3b3319-2d0b-455c-f825-f6e5aa41e613"
   },
   "outputs": [
    {
     "data": {
      "text/plain": [
       "43027"
      ]
     },
     "execution_count": 13,
     "metadata": {},
     "output_type": "execute_result"
    }
   ],
   "source": [
    "len(word_set)  # total words"
   ]
  },
  {
   "cell_type": "code",
   "execution_count": 14,
   "metadata": {
    "colab": {
     "base_uri": "https://localhost:8080/",
     "height": 34
    },
    "colab_type": "code",
    "executionInfo": {
     "elapsed": 1401,
     "status": "ok",
     "timestamp": 1599575467442,
     "user": {
      "displayName": "Jinwook Huh",
      "photoUrl": "",
      "userId": "13981448195995220893"
     },
     "user_tz": -540
    },
    "id": "hRSFr5FlKAav",
    "outputId": "9bfd9682-a1d3-4626-d37d-2b69d03acc1c"
   },
   "outputs": [
    {
     "data": {
      "text/plain": [
       "43029"
      ]
     },
     "execution_count": 14,
     "metadata": {},
     "output_type": "execute_result"
    }
   ],
   "source": [
    "len(vocab.keys())"
   ]
  },
  {
   "cell_type": "code",
   "execution_count": 15,
   "metadata": {
    "colab": {},
    "colab_type": "code",
    "executionInfo": {
     "elapsed": 1179,
     "status": "ok",
     "timestamp": 1599575467444,
     "user": {
      "displayName": "Jinwook Huh",
      "photoUrl": "",
      "userId": "13981448195995220893"
     },
     "user_tz": -540
    },
    "id": "DIe7ldfTKAax"
   },
   "outputs": [],
   "source": [
    "# encode tokens\n",
    "\n",
    "def encode(tokens, vocab2index):\n",
    "    encoded = np.zeros(40, dtype=int)\n",
    "    enc1 = np.array([vocab2index.get(word, vocab2index[\"<unk>\"]) for word in tokens])\n",
    "    if len(enc1) > 40:\n",
    "        encoded = enc1[:40]\n",
    "    else:\n",
    "        length = len(enc1)\n",
    "        encoded[:length] = enc1[:length]\n",
    "    return encoded"
   ]
  },
  {
   "cell_type": "code",
   "execution_count": 16,
   "metadata": {
    "colab": {},
    "colab_type": "code",
    "executionInfo": {
     "elapsed": 2589,
     "status": "ok",
     "timestamp": 1599575469447,
     "user": {
      "displayName": "Jinwook Huh",
      "photoUrl": "",
      "userId": "13981448195995220893"
     },
     "user_tz": -540
    },
    "id": "-lqs3YFsKAaz"
   },
   "outputs": [],
   "source": [
    "# apply encoding\n",
    "\n",
    "t_data['encoded'] = t_data['tokens'].apply(lambda x: encode(x, vocab))\n",
    "v_data['encoded'] = v_data['tokens'].apply(lambda x: encode(x, vocab))"
   ]
  },
  {
   "cell_type": "code",
   "execution_count": 17,
   "metadata": {
    "colab": {
     "base_uri": "https://localhost:8080/",
     "height": 204
    },
    "colab_type": "code",
    "executionInfo": {
     "elapsed": 2139,
     "status": "ok",
     "timestamp": 1599575469448,
     "user": {
      "displayName": "Jinwook Huh",
      "photoUrl": "",
      "userId": "13981448195995220893"
     },
     "user_tz": -540
    },
    "id": "0urZXz-DKAa1",
    "outputId": "d7f67743-1145-499d-a027-d42b21423d89"
   },
   "outputs": [
    {
     "data": {
      "text/html": [
       "<div>\n",
       "<style scoped>\n",
       "    .dataframe tbody tr th:only-of-type {\n",
       "        vertical-align: middle;\n",
       "    }\n",
       "\n",
       "    .dataframe tbody tr th {\n",
       "        vertical-align: top;\n",
       "    }\n",
       "\n",
       "    .dataframe thead th {\n",
       "        text-align: right;\n",
       "    }\n",
       "</style>\n",
       "<table border=\"1\" class=\"dataframe\">\n",
       "  <thead>\n",
       "    <tr style=\"text-align: right;\">\n",
       "      <th></th>\n",
       "      <th>label</th>\n",
       "      <th>tokens</th>\n",
       "      <th>label_re</th>\n",
       "      <th>encoded</th>\n",
       "    </tr>\n",
       "  </thead>\n",
       "  <tbody>\n",
       "    <tr>\n",
       "      <th>0</th>\n",
       "      <td>9</td>\n",
       "      <td>[아, 최고, ㅡ오프닝진짜진짜멋지고, 노래, 스카이폴, 저택, 장면, 도, 최고, ...</td>\n",
       "      <td>8</td>\n",
       "      <td>[14296, 279, 22526, 26237, 30925, 18122, 2314,...</td>\n",
       "    </tr>\n",
       "    <tr>\n",
       "      <th>1</th>\n",
       "      <td>3</td>\n",
       "      <td>[중간, 에, 기분, 이, 너무, 불쾌, 하, 고, 역겨워서, 나가, 고, 싶, 은...</td>\n",
       "      <td>2</td>\n",
       "      <td>[22961, 2189, 23734, 10770, 14910, 16647, 2406...</td>\n",
       "    </tr>\n",
       "    <tr>\n",
       "      <th>2</th>\n",
       "      <td>2</td>\n",
       "      <td>[액션, 신, 이, 마치, 유치원, 생, 이, 칼싸움, 하, 는, 것, 과, 비슷,...</td>\n",
       "      <td>1</td>\n",
       "      <td>[2985, 11413, 10770, 33909, 35052, 21105, 1077...</td>\n",
       "    </tr>\n",
       "    <tr>\n",
       "      <th>3</th>\n",
       "      <td>4</td>\n",
       "      <td>[포스터, 보구, 완전, 낚, 인, 듯, 제목, 그대로, 뭔가, 암울, 한, 이야기...</td>\n",
       "      <td>3</td>\n",
       "      <td>[14671, 4248, 1396, 40358, 5080, 28036, 7080, ...</td>\n",
       "    </tr>\n",
       "    <tr>\n",
       "      <th>4</th>\n",
       "      <td>9</td>\n",
       "      <td>[시사회, 로, 보, 고, 왔, 는데요, 볼거리, 도, 많, 고, 캐릭터, 도, 완...</td>\n",
       "      <td>8</td>\n",
       "      <td>[1282, 37459, 649, 42295, 2557, 28973, 11749, ...</td>\n",
       "    </tr>\n",
       "  </tbody>\n",
       "</table>\n",
       "</div>"
      ],
      "text/plain": [
       "   label                                             tokens  label_re  \\\n",
       "0      9  [아, 최고, ㅡ오프닝진짜진짜멋지고, 노래, 스카이폴, 저택, 장면, 도, 최고, ...         8   \n",
       "1      3  [중간, 에, 기분, 이, 너무, 불쾌, 하, 고, 역겨워서, 나가, 고, 싶, 은...         2   \n",
       "2      2  [액션, 신, 이, 마치, 유치원, 생, 이, 칼싸움, 하, 는, 것, 과, 비슷,...         1   \n",
       "3      4  [포스터, 보구, 완전, 낚, 인, 듯, 제목, 그대로, 뭔가, 암울, 한, 이야기...         3   \n",
       "4      9  [시사회, 로, 보, 고, 왔, 는데요, 볼거리, 도, 많, 고, 캐릭터, 도, 완...         8   \n",
       "\n",
       "                                             encoded  \n",
       "0  [14296, 279, 22526, 26237, 30925, 18122, 2314,...  \n",
       "1  [22961, 2189, 23734, 10770, 14910, 16647, 2406...  \n",
       "2  [2985, 11413, 10770, 33909, 35052, 21105, 1077...  \n",
       "3  [14671, 4248, 1396, 40358, 5080, 28036, 7080, ...  \n",
       "4  [1282, 37459, 649, 42295, 2557, 28973, 11749, ...  "
      ]
     },
     "execution_count": 17,
     "metadata": {},
     "output_type": "execute_result"
    }
   ],
   "source": [
    "t_data.head()"
   ]
  },
  {
   "cell_type": "code",
   "execution_count": 18,
   "metadata": {
    "colab": {},
    "colab_type": "code",
    "executionInfo": {
     "elapsed": 2278,
     "status": "ok",
     "timestamp": 1599575470037,
     "user": {
      "displayName": "Jinwook Huh",
      "photoUrl": "",
      "userId": "13981448195995220893"
     },
     "user_tz": -540
    },
    "id": "RWb0uL6MKAa5"
   },
   "outputs": [],
   "source": [
    "import torch\n",
    "import torch.nn as nn\n",
    "import torch.optim as optim\n",
    "import torch.nn.init as init\n",
    "from torch.utils.data import Dataset, DataLoader\n",
    "import torch.nn.functional as F"
   ]
  },
  {
   "cell_type": "code",
   "execution_count": 29,
   "metadata": {
    "colab": {},
    "colab_type": "code",
    "executionInfo": {
     "elapsed": 1400,
     "status": "ok",
     "timestamp": 1599575470038,
     "user": {
      "displayName": "Jinwook Huh",
      "photoUrl": "",
      "userId": "13981448195995220893"
     },
     "user_tz": -540
    },
    "id": "n1NWqA3rKAa9"
   },
   "outputs": [],
   "source": [
    "batch_size = 128\n",
    "learning_rate = 0.001\n",
    "num_epoch = 300"
   ]
  },
  {
   "cell_type": "code",
   "execution_count": 20,
   "metadata": {
    "colab": {},
    "colab_type": "code",
    "executionInfo": {
     "elapsed": 1846,
     "status": "ok",
     "timestamp": 1599575474763,
     "user": {
      "displayName": "Jinwook Huh",
      "photoUrl": "",
      "userId": "13981448195995220893"
     },
     "user_tz": -540
    },
    "id": "3Ph5yhFqKAa_"
   },
   "outputs": [],
   "source": [
    "vocab_size = len(vocab.keys())\n",
    "embedding_dim = 300\n",
    "hidden_dim = 128"
   ]
  },
  {
   "cell_type": "code",
   "execution_count": 21,
   "metadata": {
    "colab": {},
    "colab_type": "code",
    "executionInfo": {
     "elapsed": 1604,
     "status": "ok",
     "timestamp": 1599575474764,
     "user": {
      "displayName": "Jinwook Huh",
      "photoUrl": "",
      "userId": "13981448195995220893"
     },
     "user_tz": -540
    },
    "id": "gVmdQeQcKAbC"
   },
   "outputs": [],
   "source": [
    "class ReviewsDataset(Dataset):\n",
    "    def __init__(self, X, Y):\n",
    "        self.X = X\n",
    "        self.y = Y\n",
    "        \n",
    "    def __len__(self):\n",
    "        return len(self.X)\n",
    "    \n",
    "    def __getitem__(self, idx):\n",
    "        return torch.from_numpy(self.X[idx]), self.y[idx]"
   ]
  },
  {
   "cell_type": "code",
   "execution_count": 22,
   "metadata": {
    "colab": {},
    "colab_type": "code",
    "executionInfo": {
     "elapsed": 1825,
     "status": "ok",
     "timestamp": 1599575475636,
     "user": {
      "displayName": "Jinwook Huh",
      "photoUrl": "",
      "userId": "13981448195995220893"
     },
     "user_tz": -540
    },
    "id": "1dHkJ_nzKAbE"
   },
   "outputs": [],
   "source": [
    "train_ds = ReviewsDataset(t_data['encoded'], t_data['label_re'])\n",
    "train_ld = DataLoader(train_ds, batch_size=batch_size, num_workers=2)"
   ]
  },
  {
   "cell_type": "code",
   "execution_count": 23,
   "metadata": {
    "colab": {},
    "colab_type": "code",
    "executionInfo": {
     "elapsed": 1533,
     "status": "ok",
     "timestamp": 1599575475637,
     "user": {
      "displayName": "Jinwook Huh",
      "photoUrl": "",
      "userId": "13981448195995220893"
     },
     "user_tz": -540
    },
    "id": "n8Uv3oLVKAbG"
   },
   "outputs": [],
   "source": [
    "valid_ds = ReviewsDataset(t_data['encoded'], t_data['label_re'])\n",
    "valid_ld = DataLoader(valid_ds, batch_size=batch_size, num_workers=2)"
   ]
  },
  {
   "cell_type": "code",
   "execution_count": 24,
   "metadata": {
    "colab": {},
    "colab_type": "code",
    "executionInfo": {
     "elapsed": 1260,
     "status": "ok",
     "timestamp": 1599575477013,
     "user": {
      "displayName": "Jinwook Huh",
      "photoUrl": "",
      "userId": "13981448195995220893"
     },
     "user_tz": -540
    },
    "id": "6v1bREcCKAbI"
   },
   "outputs": [],
   "source": [
    "class LSTM_stacked(torch.nn.Module):\n",
    "    def __init__(self, vocab_size, embedding_dim, hidden_dim) :\n",
    "        super().__init__()\n",
    "        self.embeddings = nn.Embedding(vocab_size, embedding_dim, padding_idx=0)\n",
    "        self.lstm1 = nn.LSTM(embedding_dim,hidden_dim)\n",
    "        self.lstm2 = nn.LSTM(hidden_dim,hidden_dim)\n",
    "        self.dropout = nn.Dropout(0.4)\n",
    "        self.fc_layer = nn.Sequential(\n",
    "            nn.Linear(hidden_dim, 128),\n",
    "            nn.ReLU(),\n",
    "            nn.Linear(128, 100),\n",
    "            nn.ReLU(),\n",
    "            nn.Linear(100, 10),\n",
    "            nn.Softmax(dim=1))\n",
    "    \n",
    "    def forward(self, x):\n",
    "        out = self.embeddings(x)\n",
    "        out, (ht, ct) = self.lstm1(out)\n",
    "        out = self.dropout(out)\n",
    "        out, (ht, ct) = self.lstm2(out)\n",
    "        out = out[:,-1, :]\n",
    "        out = self.fc_layer(out)\n",
    "        return out"
   ]
  },
  {
   "cell_type": "code",
   "execution_count": 25,
   "metadata": {
    "colab": {
     "base_uri": "https://localhost:8080/",
     "height": 34
    },
    "colab_type": "code",
    "executionInfo": {
     "elapsed": 930,
     "status": "ok",
     "timestamp": 1599575477388,
     "user": {
      "displayName": "Jinwook Huh",
      "photoUrl": "",
      "userId": "13981448195995220893"
     },
     "user_tz": -540
    },
    "id": "o-zqWiiFNsJx",
    "outputId": "bd8daab6-1040-4725-a8fe-54035d90548a"
   },
   "outputs": [
    {
     "data": {
      "text/plain": [
       "True"
      ]
     },
     "execution_count": 25,
     "metadata": {},
     "output_type": "execute_result"
    }
   ],
   "source": [
    "torch.cuda.is_available()"
   ]
  },
  {
   "cell_type": "code",
   "execution_count": 30,
   "metadata": {
    "colab": {},
    "colab_type": "code",
    "executionInfo": {
     "elapsed": 3459,
     "status": "ok",
     "timestamp": 1599575519496,
     "user": {
      "displayName": "Jinwook Huh",
      "photoUrl": "",
      "userId": "13981448195995220893"
     },
     "user_tz": -540
    },
    "id": "R3wbzoVdKAbK"
   },
   "outputs": [],
   "source": [
    "device = torch.device('cuda' if torch.cuda.is_available() else 'cpu')\n",
    "model = LSTM_stacked(vocab_size, embedding_dim, hidden_dim).to(device)\n",
    "loss_func = nn.CrossEntropyLoss()\n",
    "optimizer = torch.optim.Adam(model.parameters(), lr=learning_rate)"
   ]
  },
  {
   "cell_type": "code",
   "execution_count": 31,
   "metadata": {
    "colab": {
     "base_uri": "https://localhost:8080/",
     "height": 409
    },
    "colab_type": "code",
    "executionInfo": {
     "elapsed": 117196,
     "status": "error",
     "timestamp": 1599575661430,
     "user": {
      "displayName": "Jinwook Huh",
      "photoUrl": "",
      "userId": "13981448195995220893"
     },
     "user_tz": -540
    },
    "id": "EJhjVA64KAbL",
    "outputId": "9b528e79-670c-46df-d4d9-66f5e23d96c1"
   },
   "outputs": [
    {
     "name": "stdout",
     "output_type": "stream",
     "text": [
      "epoch : 1\n",
      "epoch : 2\n",
      "epoch : 3\n",
      "epoch : 4\n",
      "epoch : 5\n",
      "epoch : 6\n",
      "epoch : 7\n",
      "epoch : 8\n",
      "epoch : 9\n",
      "epoch : 10\n",
      "epoch : 11\n",
      "epoch : 12\n",
      "epoch : 13\n",
      "epoch : 14\n",
      "epoch : 15\n",
      "epoch : 16\n",
      "epoch : 17\n",
      "epoch : 18\n",
      "epoch : 19\n",
      "epoch : 20\n",
      "epoch : 21\n",
      "epoch : 22\n",
      "epoch : 23\n",
      "epoch : 24\n",
      "epoch : 25\n",
      "epoch : 26\n",
      "epoch : 27\n",
      "epoch : 28\n",
      "epoch : 29\n",
      "epoch : 30\n",
      "epoch : 31\n",
      "epoch : 32\n",
      "epoch : 33\n",
      "epoch : 34\n",
      "epoch : 35\n",
      "epoch : 36\n",
      "epoch : 37\n",
      "epoch : 38\n",
      "epoch : 39\n",
      "epoch : 40\n",
      "epoch : 41\n",
      "epoch : 42\n",
      "epoch : 43\n",
      "epoch : 44\n",
      "epoch : 45\n",
      "epoch : 46\n",
      "epoch : 47\n",
      "epoch : 48\n",
      "epoch : 49\n",
      "epoch : 50\n",
      "epoch : 51\n",
      "epoch : 52\n",
      "epoch : 53\n",
      "epoch : 54\n",
      "epoch : 55\n",
      "epoch : 56\n",
      "epoch : 57\n",
      "epoch : 58\n",
      "epoch : 59\n",
      "epoch : 60\n",
      "epoch : 61\n",
      "epoch : 62\n",
      "epoch : 63\n",
      "epoch : 64\n",
      "epoch : 65\n",
      "epoch : 66\n",
      "epoch : 67\n",
      "epoch : 68\n",
      "epoch : 69\n",
      "epoch : 70\n",
      "epoch : 71\n",
      "epoch : 72\n",
      "epoch : 73\n",
      "epoch : 74\n",
      "epoch : 75\n",
      "epoch : 76\n",
      "epoch : 77\n",
      "epoch : 78\n",
      "epoch : 79\n",
      "epoch : 80\n",
      "epoch : 81\n",
      "epoch : 82\n",
      "epoch : 83\n",
      "epoch : 84\n",
      "epoch : 85\n",
      "epoch : 86\n",
      "epoch : 87\n",
      "epoch : 88\n",
      "epoch : 89\n",
      "epoch : 90\n",
      "epoch : 91\n",
      "epoch : 92\n",
      "epoch : 93\n",
      "epoch : 94\n",
      "epoch : 95\n",
      "epoch : 96\n",
      "epoch : 97\n",
      "epoch : 98\n",
      "epoch : 99\n",
      "epoch : 100\n",
      "epoch : 101\n",
      "epoch : 102\n",
      "epoch : 103\n",
      "epoch : 104\n",
      "epoch : 105\n",
      "epoch : 106\n",
      "epoch : 107\n",
      "epoch : 108\n",
      "epoch : 109\n",
      "epoch : 110\n",
      "epoch : 111\n",
      "epoch : 112\n",
      "epoch : 113\n",
      "epoch : 114\n",
      "epoch : 115\n",
      "epoch : 116\n",
      "epoch : 117\n",
      "epoch : 118\n",
      "epoch : 119\n",
      "epoch : 120\n",
      "epoch : 121\n",
      "epoch : 122\n",
      "epoch : 123\n",
      "epoch : 124\n",
      "epoch : 125\n",
      "epoch : 126\n",
      "epoch : 127\n",
      "epoch : 128\n",
      "epoch : 129\n",
      "epoch : 130\n",
      "epoch : 131\n",
      "epoch : 132\n",
      "epoch : 133\n",
      "epoch : 134\n",
      "epoch : 135\n",
      "epoch : 136\n",
      "epoch : 137\n",
      "epoch : 138\n",
      "epoch : 139\n",
      "epoch : 140\n",
      "epoch : 141\n",
      "epoch : 142\n",
      "epoch : 143\n",
      "epoch : 144\n",
      "epoch : 145\n",
      "epoch : 146\n",
      "epoch : 147\n",
      "epoch : 148\n",
      "epoch : 149\n",
      "epoch : 150\n",
      "epoch : 151\n",
      "epoch : 152\n",
      "epoch : 153\n",
      "epoch : 154\n",
      "epoch : 155\n",
      "epoch : 156\n",
      "epoch : 157\n",
      "epoch : 158\n",
      "epoch : 159\n",
      "epoch : 160\n",
      "epoch : 161\n",
      "epoch : 162\n",
      "epoch : 163\n",
      "epoch : 164\n",
      "epoch : 165\n",
      "epoch : 166\n",
      "epoch : 167\n",
      "epoch : 168\n",
      "epoch : 169\n",
      "epoch : 170\n",
      "epoch : 171\n",
      "epoch : 172\n",
      "epoch : 173\n",
      "epoch : 174\n",
      "epoch : 175\n",
      "epoch : 176\n",
      "epoch : 177\n",
      "epoch : 178\n",
      "epoch : 179\n",
      "epoch : 180\n",
      "epoch : 181\n",
      "epoch : 182\n",
      "epoch : 183\n",
      "epoch : 184\n",
      "epoch : 185\n",
      "epoch : 186\n",
      "epoch : 187\n",
      "epoch : 188\n",
      "epoch : 189\n",
      "epoch : 190\n",
      "epoch : 191\n",
      "epoch : 192\n",
      "epoch : 193\n",
      "epoch : 194\n",
      "epoch : 195\n",
      "epoch : 196\n",
      "epoch : 197\n",
      "epoch : 198\n",
      "epoch : 199\n",
      "epoch : 200\n",
      "epoch : 201\n",
      "epoch : 202\n",
      "epoch : 203\n",
      "epoch : 204\n",
      "epoch : 205\n",
      "epoch : 206\n",
      "epoch : 207\n",
      "epoch : 208\n",
      "epoch : 209\n",
      "epoch : 210\n",
      "epoch : 211\n",
      "epoch : 212\n",
      "epoch : 213\n",
      "epoch : 214\n",
      "epoch : 215\n",
      "epoch : 216\n",
      "epoch : 217\n",
      "epoch : 218\n",
      "epoch : 219\n",
      "epoch : 220\n",
      "epoch : 221\n",
      "epoch : 222\n",
      "epoch : 223\n",
      "epoch : 224\n",
      "epoch : 225\n",
      "epoch : 226\n",
      "epoch : 227\n",
      "epoch : 228\n",
      "epoch : 229\n",
      "epoch : 230\n",
      "epoch : 231\n",
      "epoch : 232\n",
      "epoch : 233\n",
      "epoch : 234\n",
      "epoch : 235\n",
      "epoch : 236\n",
      "epoch : 237\n",
      "epoch : 238\n",
      "epoch : 239\n",
      "epoch : 240\n",
      "epoch : 241\n",
      "epoch : 242\n",
      "epoch : 243\n",
      "epoch : 244\n",
      "epoch : 245\n",
      "epoch : 246\n",
      "epoch : 247\n",
      "epoch : 248\n",
      "epoch : 249\n",
      "epoch : 250\n",
      "epoch : 251\n",
      "epoch : 252\n",
      "epoch : 253\n",
      "epoch : 254\n",
      "epoch : 255\n",
      "epoch : 256\n",
      "epoch : 257\n",
      "epoch : 258\n",
      "epoch : 259\n",
      "epoch : 260\n",
      "epoch : 261\n",
      "epoch : 262\n",
      "epoch : 263\n",
      "epoch : 264\n",
      "epoch : 265\n",
      "epoch : 266\n",
      "epoch : 267\n",
      "epoch : 268\n",
      "epoch : 269\n",
      "epoch : 270\n",
      "epoch : 271\n",
      "epoch : 272\n",
      "epoch : 273\n",
      "epoch : 274\n",
      "epoch : 275\n",
      "epoch : 276\n",
      "epoch : 277\n",
      "epoch : 278\n",
      "epoch : 279\n",
      "epoch : 280\n",
      "epoch : 281\n",
      "epoch : 282\n",
      "epoch : 283\n",
      "epoch : 284\n",
      "epoch : 285\n",
      "epoch : 286\n",
      "epoch : 287\n",
      "epoch : 288\n",
      "epoch : 289\n",
      "epoch : 290\n",
      "epoch : 291\n",
      "epoch : 292\n",
      "epoch : 293\n",
      "epoch : 294\n",
      "epoch : 295\n",
      "epoch : 296\n",
      "epoch : 297\n",
      "epoch : 298\n",
      "epoch : 299\n",
      "epoch : 300\n"
     ]
    }
   ],
   "source": [
    "loss_arr = []\n",
    "for i in range(num_epoch):\n",
    "    for j, [text, label] in enumerate(train_ld):\n",
    "        x = text.to(device)\n",
    "        y = label.to(device)\n",
    "        \n",
    "        optimizer.zero_grad()\n",
    "        output = model.forward(x)\n",
    "        loss = loss_func(output, y)\n",
    "        loss.backward()\n",
    "        optimizer.step()\n",
    "\n",
    "        if j % 100 == 0:\n",
    "            loss_arr.append(loss.cpu().detach().numpy())\n",
    " \n",
    "    print('epoch : {}'.format(i+1))"
   ]
  },
  {
   "cell_type": "code",
   "execution_count": 32,
   "metadata": {
    "colab": {
     "base_uri": "https://localhost:8080/",
     "height": 265
    },
    "colab_type": "code",
    "executionInfo": {
     "elapsed": 1122,
     "status": "ok",
     "timestamp": 1598882805108,
     "user": {
      "displayName": "Jinwook Huh",
      "photoUrl": "",
      "userId": "13981448195995220893"
     },
     "user_tz": -540
    },
    "id": "BvI7p3s2KAbN",
    "outputId": "db276430-31c3-4016-9f07-1cdbfe54d480"
   },
   "outputs": [
    {
     "data": {
      "image/png": "[encoded data removed]",
      "text/plain": [
       "<Figure size 432x288 with 1 Axes>"
      ]
     },
     "metadata": {
      "needs_background": "light"
     },
     "output_type": "display_data"
    }
   ],
   "source": [
    "# loss\n",
    "\n",
    "plt.plot(loss_arr)\n",
    "plt.show()"
   ]
  },
  {
   "cell_type": "code",
   "execution_count": 33,
   "metadata": {
    "colab": {
     "base_uri": "https://localhost:8080/",
     "height": 34
    },
    "colab_type": "code",
    "executionInfo": {
     "elapsed": 12337,
     "status": "ok",
     "timestamp": 1598882829327,
     "user": {
      "displayName": "Jinwook Huh",
      "photoUrl": "",
      "userId": "13981448195995220893"
     },
     "user_tz": -540
    },
    "id": "u-nDdP43S2rh",
    "outputId": "75eb342e-6b85-47b5-dbac-c84d437ff818"
   },
   "outputs": [
    {
     "name": "stdout",
     "output_type": "stream",
     "text": [
      "Accuracy of Test Data: 0.3803499937057495\n"
     ]
    }
   ],
   "source": [
    "# model test\n",
    "\n",
    "correct = 0\n",
    "total = 0\n",
    "\n",
    "with torch.no_grad():\n",
    "    for text, label in valid_ld:\n",
    "        x = text.to(device)\n",
    "        y = label.to(device)\n",
    "\n",
    "        output = model.forward(x)\n",
    "        _, output_index = torch.max(output,1)\n",
    "\n",
    "        total += label.size(0)\n",
    "        correct += (output_index == y).sum().float()\n",
    "    print('Accuracy of Test Data: {}'.format(correct/total))"
   ]
  },
  {
   "cell_type": "code",
   "execution_count": 2,
   "metadata": {
    "colab": {},
    "colab_type": "code",
    "id": "KgIi0FkjUY66"
   },
   "outputs": [
    {
     "name": "stdout",
     "output_type": "stream",
     "text": [
      "Thu Sep 10 01:27:38 2020       \r\n",
      "+-----------------------------------------------------------------------------+\r\n",
      "| NVIDIA-SMI 440.100      Driver Version: 440.100      CUDA Version: 10.2     |\r\n",
      "|-------------------------------+----------------------+----------------------+\r\n",
      "| GPU  Name        Persistence-M| Bus-Id        Disp.A | Volatile Uncorr. ECC |\r\n",
      "| Fan  Temp  Perf  Pwr:Usage/Cap|         Memory-Usage | GPU-Util  Compute M. |\r\n",
      "|===============================+======================+======================|\r\n",
      "|   0  Tesla K80           Off  | 00000000:00:04.0 Off |                    0 |\r\n",
      "| N/A   55C    P0    78W / 149W |      0MiB / 11441MiB |      0%      Default |\r\n",
      "+-------------------------------+----------------------+----------------------+\r\n",
      "                                                                               \r\n",
      "+-----------------------------------------------------------------------------+\r\n",
      "| Processes:                                                       GPU Memory |\r\n",
      "|  GPU       PID   Type   Process name                             Usage      |\r\n",
      "|=============================================================================|\r\n",
      "|  No running processes found                                                 |\r\n",
      "+-----------------------------------------------------------------------------+\r\n"
     ]
    }
   ],
   "source": [
    "!nvidia-smi"
   ]
  },
  {
   "cell_type": "code",
   "execution_count": 5,
   "metadata": {},
   "outputs": [
    {
     "name": "stdout",
     "output_type": "stream",
     "text": [
      "Available devices  1\n",
      "Current cuda device  0\n",
      "Tesla K80\n"
     ]
    }
   ],
   "source": [
    "device = torch.device('cuda' if torch.cuda.is_available() else 'cpu')\n",
    "print ('Available devices ', torch.cuda.device_count())\n",
    "print ('Current cuda device ', torch.cuda.current_device())\n",
    "print(torch.cuda.get_device_name(device))"
   ]
  },
  {
   "cell_type": "code",
   "execution_count": null,
   "metadata": {},
   "outputs": [],
   "source": []
  }
 ],
 "metadata": {
  "accelerator": "GPU",
  "colab": {
   "collapsed_sections": [],
   "name": "model_lstm.ipynb",
   "provenance": []
  },
  "kernelspec": {
   "display_name": "Python 3",
   "language": "python",
   "name": "python3"
  },
  "language_info": {
   "codemirror_mode": {
    "name": "ipython",
    "version": 3
   },
   "file_extension": ".py",
   "mimetype": "text/x-python",
   "name": "python",
   "nbconvert_exporter": "python",
   "pygments_lexer": "ipython3",
   "version": "3.7.0"
  }
 },
 "nbformat": 4,
 "nbformat_minor": 1
}
